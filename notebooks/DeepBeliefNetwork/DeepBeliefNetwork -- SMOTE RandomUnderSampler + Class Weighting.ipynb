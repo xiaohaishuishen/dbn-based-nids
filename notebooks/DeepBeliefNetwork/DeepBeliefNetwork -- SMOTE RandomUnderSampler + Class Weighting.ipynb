{
 "cells": [
  {
   "cell_type": "markdown",
   "id": "c2a4c712",
   "metadata": {},
   "source": [
    "# Building a deep belief network"
   ]
  },
  {
   "cell_type": "code",
   "execution_count": null,
   "id": "a8574604",
   "metadata": {},
   "outputs": [],
   "source": [
    "import torch\n",
    "import torch.nn as nn\n",
    "import torch.optim as optim\n",
    "\n",
    "import numpy as np\n",
    "import pandas as pd\n",
    "import os\n",
    "\n",
    "import matplotlib.pyplot as plt\n",
    "\n",
    "from tqdm import tqdm\n",
    "\n",
    "import sys\n",
    "sys.path.append('../..')\n",
    "\n",
    "from logger import setup_logging\n",
    "from models import DBN\n",
    "from utils import (\n",
    "    dataset,\n",
    "    test,\n",
    "    train,\n",
    "    utils,\n",
    "    visualisation\n",
    ")"
   ]
  },
  {
   "cell_type": "code",
   "execution_count": null,
   "id": "15d69239",
   "metadata": {},
   "outputs": [],
   "source": [
    "LOG_CONFIG_PATH = os.path.join(os.path.abspath(\"../..\"), \"logger\", \"logger_config.json\")\n",
    "LOG_DIR   = os.path.join(os.path.abspath(\"../..\"), \"logs\")\n",
    "DATA_DIR  = os.path.join(os.path.abspath(\"../..\"), \"data\")\n",
    "IMAGE_DIR = os.path.join(os.path.abspath(\"../..\"), \"images\")"
   ]
  },
  {
   "cell_type": "markdown",
   "id": "7a0f6126",
   "metadata": {},
   "source": [
    "Check if GPU is active."
   ]
  },
  {
   "cell_type": "code",
   "execution_count": null,
   "id": "c5e213c4",
   "metadata": {},
   "outputs": [],
   "source": [
    "device = 'cuda' if torch.cuda.is_available() else 'cpu'\n",
    "print('Using {} device'.format(device))"
   ]
  },
  {
   "cell_type": "code",
   "execution_count": null,
   "id": "ca79fd1b",
   "metadata": {},
   "outputs": [],
   "source": [
    "utils.mkdir(LOG_DIR)\n",
    "setup_logging(save_dir=LOG_DIR, log_config=LOG_CONFIG_PATH)"
   ]
  },
  {
   "cell_type": "markdown",
   "id": "a4f672a2",
   "metadata": {},
   "source": [
    "### Create the DataLoader"
   ]
  },
  {
   "cell_type": "code",
   "execution_count": null,
   "id": "436a18e3",
   "metadata": {},
   "outputs": [],
   "source": [
    "# Get the datasets\n",
    "train_data, val_data, test_data = dataset.get_dataset(data_path=DATA_DIR, balanced=True)\n",
    "\n",
    "# How many instances have we got?\n",
    "print('# instances in training set: ', len(train_data))\n",
    "print('# instances in validation set: ', len(val_data))\n",
    "print('# instances in testing set: ', len(test_data))\n",
    "\n",
    "batch_size = 128\n",
    "\n",
    "# Create the dataloaders - for training, validation and testing\n",
    "train_loader = torch.utils.data.DataLoader(dataset=train_data, batch_size=batch_size, shuffle=True)\n",
    "valid_loader = torch.utils.data.DataLoader(dataset=val_data, batch_size=batch_size, shuffle=True)\n",
    "test_loader  = torch.utils.data.DataLoader(dataset=test_data, batch_size=batch_size, shuffle=False)"
   ]
  },
  {
   "cell_type": "markdown",
   "id": "6f01ed26",
   "metadata": {},
   "source": [
    "### Instantiate the network, the loss function and the optimizer"
   ]
  },
  {
   "cell_type": "code",
   "execution_count": null,
   "id": "3ea40082",
   "metadata": {},
   "outputs": [],
   "source": [
    "# Defining some input variables\n",
    "n_classes = 6\n",
    "num_epochs = 3\n",
    "\n",
    "# Creating a DBN\n",
    "model = DBN(n_visible=49,\n",
    "            n_hidden=(128, 64),\n",
    "            k=(1, 1),\n",
    "            learning_rate=(0.1, 0.1),\n",
    "            momentum=(0, 0),\n",
    "            decay=(0, 0), \n",
    "            batch_size=[64, 64],\n",
    "            num_epochs=[1, 1],\n",
    "            device=device)\n",
    "\n",
    "# Training a DBN\n",
    "model.fit(train_loader)\n",
    "\n",
    "# Creating the optimzers\n",
    "optimizer = [optim.Adam(m.parameters(), lr=0.001) for m in model.models]\n",
    "optimizer.append(optim.Adam(model.fc.parameters(), lr=0.001))"
   ]
  },
  {
   "cell_type": "code",
   "execution_count": null,
   "id": "d0ad940f",
   "metadata": {},
   "outputs": [],
   "source": [
    "print(model)"
   ]
  },
  {
   "cell_type": "code",
   "execution_count": null,
   "id": "55994fb5",
   "metadata": {},
   "outputs": [],
   "source": [
    "from sklearn.utils.class_weight import compute_class_weight\n",
    "\n",
    "class_weight = compute_class_weight(\n",
    "    class_weight='balanced',\n",
    "    classes=np.unique(train_data.labels.label),\n",
    "    y=train_data.labels.label.to_numpy()\n",
    ")\n",
    "class_weight = torch.FloatTensor(class_weight)\n",
    "criterion = nn.CrossEntropyLoss(weight=class_weight)"
   ]
  },
  {
   "cell_type": "markdown",
   "id": "7bf0e349",
   "metadata": {},
   "source": [
    "### Train it"
   ]
  },
  {
   "cell_type": "code",
   "execution_count": null,
   "id": "a93412e1",
   "metadata": {},
   "outputs": [],
   "source": [
    "history = train(model, criterion, optimizer, train_loader, valid_loader, num_epochs, device)\n",
    "\n",
    "training_loss = history['train']['loss']\n",
    "training_accuracy = history['train']['accuracy']\n",
    "train_output_true = history['train']['output_true']\n",
    "train_output_pred = history['train']['output_pred']\n",
    "\n",
    "validation_loss = history['valid']['loss']\n",
    "validation_accuracy = history['valid']['accuracy']\n",
    "valid_output_true = history['valid']['output_true']\n",
    "valid_output_pred = history['valid']['output_pred']"
   ]
  },
  {
   "cell_type": "markdown",
   "id": "a579fe49",
   "metadata": {},
   "source": [
    "### Plot loss vs iterations"
   ]
  },
  {
   "cell_type": "code",
   "execution_count": null,
   "id": "d1309796",
   "metadata": {},
   "outputs": [],
   "source": [
    "fig = plt.figure(figsize=(12, 8))\n",
    "plt.plot(training_loss, label='train - loss')\n",
    "plt.plot(validation_loss, label='validation - loss')\n",
    "plt.title(\"Train and Validation Loss\")\n",
    "plt.xlabel('Epochs')\n",
    "plt.ylabel('Loss')\n",
    "plt.legend(loc=\"best\")\n",
    "plt.show()\n",
    "\n",
    "fig = plt.figure(figsize=(12, 8))\n",
    "plt.plot(training_accuracy, label='train - accuracy')\n",
    "plt.plot(validation_accuracy, label='validation - accuracy')\n",
    "plt.title(\"Train and Validation Accuracy\")\n",
    "plt.xlabel('epochs')\n",
    "plt.ylabel('Accuracy')\n",
    "plt.ylim(0, 1)\n",
    "plt.legend(loc=\"best\")\n",
    "plt.show()"
   ]
  },
  {
   "cell_type": "markdown",
   "id": "e47ef0d3",
   "metadata": {},
   "source": [
    "### Plot confusion matrix"
   ]
  },
  {
   "cell_type": "code",
   "execution_count": null,
   "id": "c9ecb0ca",
   "metadata": {},
   "outputs": [],
   "source": [
    "labels = ['Benign', 'Botnet ARES', 'Brute Force', 'DoS/DDoS', 'PortScan', 'Web Attack']\n",
    "\n",
    "visualisation.plot_confusion_matrix(y_true=train_output_true,\n",
    "                                    y_pred=train_output_pred,\n",
    "                                    labels=labels,\n",
    "                                    save=True,\n",
    "                                    save_dir=IMAGE_DIR,\n",
    "                                    filename=\"bal_cw_dbn_train_confusion_matrix.pdf\")"
   ]
  },
  {
   "cell_type": "code",
   "execution_count": null,
   "id": "ea441b41",
   "metadata": {},
   "outputs": [],
   "source": [
    "from sklearn.metrics import classification_report\n",
    "\n",
    "print(\"Training Set -- Classification Report\", end=\"\\n\\n\")\n",
    "print(classification_report(train_output_true, train_output_pred, target_names=labels))"
   ]
  },
  {
   "cell_type": "code",
   "execution_count": null,
   "id": "e37762f7",
   "metadata": {},
   "outputs": [],
   "source": [
    "visualisation.plot_confusion_matrix(y_true=valid_output_true,\n",
    "                                    y_pred=valid_output_pred,\n",
    "                                    labels=labels,\n",
    "                                    save=True,\n",
    "                                    save_dir=IMAGE_DIR,\n",
    "                                    filename=\"bal_cw_dbn_valid_confusion_matrix.pdf\")"
   ]
  },
  {
   "cell_type": "code",
   "execution_count": null,
   "id": "f2e15e45",
   "metadata": {},
   "outputs": [],
   "source": [
    "print(\"Validation Set -- Classification Report\", end=\"\\n\\n\")\n",
    "print(classification_report(valid_output_true, valid_output_pred, target_names=labels))"
   ]
  },
  {
   "cell_type": "markdown",
   "id": "5aa8e5b2",
   "metadata": {},
   "source": [
    "### Test it"
   ]
  },
  {
   "cell_type": "code",
   "execution_count": null,
   "id": "8fcfb904",
   "metadata": {},
   "outputs": [],
   "source": [
    "#################\n",
    "### TEST LOOP ###\n",
    "#################\n",
    "history = test(model, criterion, test_loader, device)\n",
    "\n",
    "test_output_true = history['test']['output_true']\n",
    "test_output_pred = history['test']['output_pred']\n",
    "test_output_pred_prob = history['test']['output_pred_prob']"
   ]
  },
  {
   "cell_type": "markdown",
   "id": "50a3062d",
   "metadata": {},
   "source": [
    "### Classification Report"
   ]
  },
  {
   "cell_type": "code",
   "execution_count": null,
   "id": "8dffb665",
   "metadata": {},
   "outputs": [],
   "source": [
    "visualisation.plot_confusion_matrix(y_true=test_output_true,\n",
    "                                    y_pred=test_output_pred,\n",
    "                                    labels=labels,\n",
    "                                    save=True,\n",
    "                                    save_dir=IMAGE_DIR,\n",
    "                                    filename=\"bal_cw_dbn_test_confusion_matrix.pdf\")"
   ]
  },
  {
   "cell_type": "code",
   "execution_count": null,
   "id": "10feda6f",
   "metadata": {},
   "outputs": [],
   "source": [
    "print(\"Testing Set -- Classification Report\", end=\"\\n\\n\")\n",
    "print(classification_report(test_output_true, test_output_pred, target_names=labels))"
   ]
  },
  {
   "cell_type": "markdown",
   "id": "69d6d05e",
   "metadata": {},
   "source": [
    "### Plot ROC curve"
   ]
  },
  {
   "cell_type": "code",
   "execution_count": null,
   "id": "4e5c1b35",
   "metadata": {},
   "outputs": [],
   "source": [
    "y_test = pd.get_dummies(test_output_true).values\n",
    "y_score = np.array(test_output_pred_prob)"
   ]
  },
  {
   "cell_type": "code",
   "execution_count": null,
   "id": "4b13e1b6",
   "metadata": {},
   "outputs": [],
   "source": [
    "visualisation.plot_roc_curve(y_test=y_test,\n",
    "                             y_score=y_score,\n",
    "                             labels=labels,\n",
    "                             save=True,\n",
    "                             save_dir=IMAGE_DIR,\n",
    "                             filename=\"bal_cw_dbn_roc_curve.pdf\")"
   ]
  },
  {
   "cell_type": "markdown",
   "id": "9cf798fd",
   "metadata": {},
   "source": [
    "### Plot Precision vs. Recall curve"
   ]
  },
  {
   "cell_type": "code",
   "execution_count": null,
   "id": "b1a7dc84",
   "metadata": {},
   "outputs": [],
   "source": [
    "visualisation.plot_precision_recall_curve(y_test=y_test,\n",
    "                                          y_score=y_score,\n",
    "                                          labels=labels,\n",
    "                                          save=True,\n",
    "                                          save_dir=IMAGE_DIR,\n",
    "                                          filename=\"bal_cw_dbn_prec_recall_curve.pdf\")"
   ]
  },
  {
   "cell_type": "markdown",
   "id": "14082ef9",
   "metadata": {},
   "source": [
    "### Save Model"
   ]
  },
  {
   "cell_type": "code",
   "execution_count": null,
   "id": "eaf99b7f",
   "metadata": {},
   "outputs": [],
   "source": [
    "path = '../../checkpoints/bal_cw_deep_belief_network.pt'\n",
    "torch.save({\n",
    "            'epoch': num_epochs,\n",
    "            'model_state_dict': model.state_dict(),\n",
    "            }, path)"
   ]
  }
 ],
 "metadata": {
  "interpreter": {
   "hash": "aee8b7b246df8f9039afb4144a1f6fd8d2ca17a180786b69acc140d282b71a49"
  },
  "kernelspec": {
   "display_name": "Python 3 (ipykernel)",
   "language": "python",
   "name": "python3"
  },
  "language_info": {
   "codemirror_mode": {
    "name": "ipython",
    "version": 3
   },
   "file_extension": ".py",
   "mimetype": "text/x-python",
   "name": "python",
   "nbconvert_exporter": "python",
   "pygments_lexer": "ipython3",
   "version": "3.9.13"
  }
 },
 "nbformat": 4,
 "nbformat_minor": 5
}

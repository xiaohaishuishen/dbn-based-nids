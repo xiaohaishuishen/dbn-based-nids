{
 "cells": [
  {
   "cell_type": "markdown",
   "id": "19135aa1",
   "metadata": {},
   "source": [
    "# Feature Reduction\n",
    "------------------------------------------------"
   ]
  },
  {
   "cell_type": "markdown",
   "id": "e6326e40",
   "metadata": {},
   "source": [
    "### Load the Dataset\n",
    "Read data from pickle files."
   ]
  },
  {
   "cell_type": "code",
   "execution_count": null,
   "id": "519995f0",
   "metadata": {},
   "outputs": [],
   "source": [
    "import pandas as pd\n",
    "import numpy as np\n",
    "import os\n",
    "\n",
    "%matplotlib inline\n",
    "import matplotlib.pyplot as plt\n",
    "import seaborn as sns"
   ]
  },
  {
   "cell_type": "code",
   "execution_count": null,
   "id": "8faee601",
   "metadata": {},
   "outputs": [],
   "source": [
    "DATA_DIR  = os.path.join(os.path.abspath(\"..\"), \"data\")\n",
    "IMAGE_DIR = os.path.join(os.path.abspath(\"..\"), \"images\")"
   ]
  },
  {
   "cell_type": "code",
   "execution_count": null,
   "id": "eba9b711",
   "metadata": {},
   "outputs": [],
   "source": [
    "X_train = pd.read_pickle(os.path.join(DATA_DIR, 'processed', 'train/train_features.pkl'))\n",
    "X_val = pd.read_pickle(os.path.join(DATA_DIR, 'processed', 'val/val_features.pkl'))\n",
    "X_test = pd.read_pickle(os.path.join(DATA_DIR, 'processed', 'test/test_features.pkl'))\n",
    "\n",
    "y_train = pd.read_pickle(os.path.join(DATA_DIR, 'processed', 'train/train_labels.pkl'))\n",
    "y_val = pd.read_pickle(os.path.join(DATA_DIR, 'processed', 'val/val_labels.pkl'))\n",
    "y_test = pd.read_pickle(os.path.join(DATA_DIR, 'processed', 'test/test_labels.pkl'))"
   ]
  },
  {
   "cell_type": "markdown",
   "id": "a3e107bb",
   "metadata": {},
   "source": [
    "### PCA \n",
    "Note that after dimensionality reduction, there usually isn’t a particular meaning assigned to each principal component. The new components are just the two main dimensions of variation."
   ]
  },
  {
   "cell_type": "code",
   "execution_count": null,
   "id": "5664d698",
   "metadata": {},
   "outputs": [],
   "source": [
    "from sklearn.decomposition import PCA"
   ]
  },
  {
   "cell_type": "code",
   "execution_count": null,
   "id": "ea295178",
   "metadata": {},
   "outputs": [],
   "source": [
    "pca = PCA(n_components=2)\n",
    "\n",
    "principalComponents = pca.fit_transform(X_train)\n",
    "\n",
    "principalDf = pd.DataFrame(data=principalComponents, columns=['principal component 1', 'principal component 2'])"
   ]
  },
  {
   "cell_type": "markdown",
   "id": "b825cc49",
   "metadata": {},
   "source": [
    "### Visualize 2D Projection\n",
    "PCA projection to 2D to visualize the entire data set. "
   ]
  },
  {
   "cell_type": "code",
   "execution_count": null,
   "id": "f3130952",
   "metadata": {},
   "outputs": [],
   "source": [
    "finalDf = pd.concat([principalDf, y_train], axis=1)\n",
    "\n",
    "fig, ax = plt.subplots(nrows=1, ncols=1, figsize=(8, 8));\n",
    "targets = y_train['label'].unique()\n",
    "\n",
    "for target in [0, 3, 5, 2, 6, 1, 4]:\n",
    "    filt = finalDf['label'] == target\n",
    "    ax.scatter(finalDf.loc[filt, 'principal component 1'], finalDf.loc[filt, 'principal component 2'], s=50)\n",
    "\n",
    "ax.set_xlabel('Principal Component 1', fontsize=16)\n",
    "ax.set_ylabel('Principal Component 2', fontsize=16)\n",
    "ax.set_title('2 Component PCA', fontsize=18)\n",
    "ax.legend(targets)\n",
    "ax.grid()"
   ]
  },
  {
   "cell_type": "markdown",
   "id": "39859d37",
   "metadata": {},
   "source": [
    "### Explained Variance\n",
    "The explained variance tells us how much information (variance) can be attributed to each of the principal components."
   ]
  },
  {
   "cell_type": "code",
   "execution_count": null,
   "id": "bd14c43d",
   "metadata": {},
   "outputs": [],
   "source": [
    "pca.explained_variance_ratio_"
   ]
  },
  {
   "cell_type": "code",
   "execution_count": null,
   "id": "3f639f34",
   "metadata": {},
   "outputs": [],
   "source": [
    "sum(pca.explained_variance_ratio_)"
   ]
  },
  {
   "cell_type": "markdown",
   "id": "249bd3dd",
   "metadata": {},
   "source": [
    "Together, the two principal components contain about 63% of the information. The first principal component contains about 47% of the variance. The second principal component contains about 16% of the variance. "
   ]
  },
  {
   "cell_type": "markdown",
   "id": "fa69cd34",
   "metadata": {},
   "source": [
    "### Relationship between Cumulative Explained Variance and Number of Principal Components"
   ]
  },
  {
   "cell_type": "code",
   "execution_count": null,
   "id": "749674c9",
   "metadata": {},
   "outputs": [],
   "source": [
    "import seaborn as sns\n",
    "\n",
    "sns.set_theme(style=\"white\", color_codes=True)"
   ]
  },
  {
   "cell_type": "code",
   "execution_count": null,
   "id": "5cab6de5",
   "metadata": {},
   "outputs": [],
   "source": [
    "pca = PCA()\n",
    "\n",
    "pca.fit(X_train)\n",
    "\n",
    "tot = sum(pca.explained_variance_)\n",
    "\n",
    "var_exp = [(i/tot)*100 for i in sorted(pca.explained_variance_, reverse=True)] \n",
    "\n",
    "cum_var_exp = np.cumsum(var_exp)\n",
    "\n",
    "fig, ax = plt.subplots(figsize=(12, 7));\n",
    "plt.plot(range(1, 50), cum_var_exp)\n",
    "#plt.title('Explained Variance by Components', fontsize=18)\n",
    "plt.ylabel('Cumulative explained variance', fontsize = 18)\n",
    "plt.xlabel('Principal components', fontsize = 18)\n",
    "ax.axhline(y=99, color='c', linestyle='--', label='99% explained variance')\n",
    "ax.axhline(y=97, color='k', linestyle='--', label='97% explained variance')\n",
    "ax.axhline(y=95, color='r', linestyle='--', label='95% explained variance')\n",
    "ax.legend(loc='best', markerscale=1.0, fontsize=14)\n",
    "ax.grid()\n",
    "fig.savefig(os.path.join(IMAGE_DIR, 'pca.pdf'))"
   ]
  },
  {
   "cell_type": "markdown",
   "id": "d9e67693",
   "metadata": {},
   "source": [
    "### The minimum number of principal components such that 99% of the variance is retained"
   ]
  },
  {
   "cell_type": "code",
   "execution_count": null,
   "id": "90f88d2e",
   "metadata": {},
   "outputs": [],
   "source": [
    "pca = PCA(0.99)\n",
    "\n",
    "X_train_pca = pd.DataFrame(pca.fit_transform(X_train))\n",
    "X_val_pca = pd.DataFrame(pca.transform(X_val))\n",
    "X_test_pca = pd.DataFrame(pca.transform(X_test))"
   ]
  },
  {
   "cell_type": "code",
   "execution_count": null,
   "id": "1edd2de3",
   "metadata": {},
   "outputs": [],
   "source": [
    "sum(pca.explained_variance_ratio_)"
   ]
  },
  {
   "cell_type": "code",
   "execution_count": null,
   "id": "ef24601b",
   "metadata": {},
   "outputs": [],
   "source": [
    "len(pca.explained_variance_)"
   ]
  },
  {
   "cell_type": "markdown",
   "id": "6e62fb12",
   "metadata": {},
   "source": [
    "99% of the variance is retained for 25 principal components instead of 47."
   ]
  },
  {
   "cell_type": "code",
   "execution_count": null,
   "id": "55059d53",
   "metadata": {},
   "outputs": [],
   "source": [
    "X_train_pca.to_pickle(os.path.join(DATA_DIR, 'processed', 'train/train_features_pca25.pkl'))\n",
    "X_val_pca.to_pickle(os.path.join(DATA_DIR, 'processed', 'val/val_features_pca25.pkl'))\n",
    "X_test_pca.to_pickle(os.path.join(DATA_DIR, 'processed', 'test/test_features_pca25.pkl'))"
   ]
  }
 ],
 "metadata": {
  "kernelspec": {
   "display_name": "Python 3 (ipykernel)",
   "language": "python",
   "name": "python3"
  },
  "language_info": {
   "codemirror_mode": {
    "name": "ipython",
    "version": 3
   },
   "file_extension": ".py",
   "mimetype": "text/x-python",
   "name": "python",
   "nbconvert_exporter": "python",
   "pygments_lexer": "ipython3",
   "version": "3.9.13"
  }
 },
 "nbformat": 4,
 "nbformat_minor": 5
}
